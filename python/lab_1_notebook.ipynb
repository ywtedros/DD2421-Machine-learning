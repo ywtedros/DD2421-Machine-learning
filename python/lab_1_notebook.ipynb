{
 "cells": [
  {
   "cell_type": "code",
   "execution_count": 2,
   "metadata": {},
   "outputs": [],
   "source": [
    "import monkdata as md\n",
    "import dtree as dt\n",
    "import pandas as pd\n",
    "import numpy as np\n",
    "import drawtree_qt5 as dwt"
   ]
  },
  {
   "cell_type": "code",
   "execution_count": 2,
   "metadata": {},
   "outputs": [
    {
     "name": "stdout",
     "output_type": "stream",
     "text": [
      " Entropy 1 = 1.0 \n",
      " Entropy 2 = 0.957117428264771 \n",
      " Entropy 3 = 0.9998061328047111\n"
     ]
    }
   ],
   "source": [
    "#task 1\n",
    "MONK1_entropy = dt.entropy(md.monk1)\n",
    "MONK2_entropy = dt.entropy(md.monk2)\n",
    "MONK3_entropy = dt.entropy(md.monk3) \n",
    "\n",
    "print(f\" Entropy 1 = {MONK1_entropy} \\n Entropy 2 = {MONK2_entropy} \\n Entropy 3 = {MONK3_entropy}\")"
   ]
  },
  {
   "cell_type": "code",
   "execution_count": 3,
   "metadata": {},
   "outputs": [],
   "source": [
    "#task 2 \n",
    "#If uniform distribution then p_i the same for all i => p_i = 1/N\n",
    "#By definition entropy Ent = Sum_i -p_i log2(p_i)  \n",
    "# = -Sum_N 1/N log2(1/N) = -N * 1/N log2(1/N)\n",
    "#Ent = log2(N)\n",
    "#It gives the maximum value for the entropy since it's not predictable \n",
    "\n",
    "#In the case of a non-unifrom distribution, such as a normal distribution where the p_i are different, \n",
    "# and points closer to the mean of the set have a higher probability to occur than others, the entropy\n",
    "# becomes lower. Indeed the entropy is lowered as soon as the dataset becomes more predictable\n",
    "\n",
    "#For example, the normal distribution with a small sigma as a really low entropy (centered peak values) whereas \n",
    "#normal distribution but larger sigma will have an higher entropy"
   ]
  },
  {
   "cell_type": "code",
   "execution_count": 4,
   "metadata": {},
   "outputs": [
    {
     "name": "stdout",
     "output_type": "stream",
     "text": [
      "MONK1 \n",
      " a1_MONK1= 0.07527255560831925 \n",
      " a2_MONK1= 0.005838429962909286 \n",
      " a3_MONK1= 0.00470756661729721 \n",
      " a4_MONK1= 0.02631169650768228 \n",
      " a5_MONK1= 0.28703074971578435 \n",
      " a6_MONK1= 0.0007578557158638421 \n"
     ]
    }
   ],
   "source": [
    "#task 3\n",
    "\n",
    "#Expected gain per attributes MONK1\n",
    "info_gain_MONK1_a1 = dt.averageGain(md.monk1, md.attributes[0])\n",
    "info_gain_MONK1_a2 = dt.averageGain(md.monk1, md.attributes[1])\n",
    "info_gain_MONK1_a3 = dt.averageGain(md.monk1, md.attributes[2])\n",
    "info_gain_MONK1_a4 = dt.averageGain(md.monk1, md.attributes[3])\n",
    "info_gain_MONK1_a5 = dt.averageGain(md.monk1, md.attributes[4])\n",
    "info_gain_MONK1_a6 = dt.averageGain(md.monk1, md.attributes[5])\n",
    "\n",
    "#Expected gain per attributes MONK2\n",
    "info_gain_MONK2_a1 = dt.averageGain(md.monk2, md.attributes[0])\n",
    "info_gain_MONK2_a2 = dt.averageGain(md.monk2, md.attributes[1])\n",
    "info_gain_MONK2_a3 = dt.averageGain(md.monk2, md.attributes[2])\n",
    "info_gain_MONK2_a4 = dt.averageGain(md.monk2, md.attributes[3])\n",
    "info_gain_MONK2_a5 = dt.averageGain(md.monk2, md.attributes[4])\n",
    "info_gain_MONK2_a6 = dt.averageGain(md.monk2, md.attributes[5])\n",
    "\n",
    "##Expected gain per attributes MONK3\n",
    "info_gain_MONK3_a1 = dt.averageGain(md.monk3, md.attributes[0])\n",
    "info_gain_MONK3_a2 = dt.averageGain(md.monk3, md.attributes[1])\n",
    "info_gain_MONK3_a3 = dt.averageGain(md.monk3, md.attributes[2])\n",
    "info_gain_MONK3_a4 = dt.averageGain(md.monk3, md.attributes[3])\n",
    "info_gain_MONK3_a5 = dt.averageGain(md.monk3, md.attributes[4])\n",
    "info_gain_MONK3_a6 = dt.averageGain(md.monk3, md.attributes[5])\n",
    "\n",
    "print(f\"MONK1 \\n a1_MONK1= {info_gain_MONK1_a1} \\n a2_MONK1= {info_gain_MONK1_a2} \\n a3_MONK1= {info_gain_MONK1_a3} \\n a4_MONK1= {info_gain_MONK1_a4} \\n a5_MONK1= {info_gain_MONK1_a5} \\n a6_MONK1= {info_gain_MONK1_a6} \")\n",
    " "
   ]
  },
  {
   "cell_type": "code",
   "execution_count": 5,
   "metadata": {},
   "outputs": [
    {
     "data": {
      "text/html": [
       "<div>\n",
       "<style scoped>\n",
       "    .dataframe tbody tr th:only-of-type {\n",
       "        vertical-align: middle;\n",
       "    }\n",
       "\n",
       "    .dataframe tbody tr th {\n",
       "        vertical-align: top;\n",
       "    }\n",
       "\n",
       "    .dataframe thead th {\n",
       "        text-align: right;\n",
       "    }\n",
       "</style>\n",
       "<table border=\"1\" class=\"dataframe\">\n",
       "  <thead>\n",
       "    <tr style=\"text-align: right;\">\n",
       "      <th></th>\n",
       "      <th>0</th>\n",
       "      <th>1</th>\n",
       "      <th>2</th>\n",
       "      <th>3</th>\n",
       "      <th>4</th>\n",
       "      <th>5</th>\n",
       "    </tr>\n",
       "  </thead>\n",
       "  <tbody>\n",
       "    <tr>\n",
       "      <th>MONK-1</th>\n",
       "      <td>0.075273</td>\n",
       "      <td>0.005838</td>\n",
       "      <td>0.004708</td>\n",
       "      <td>0.026312</td>\n",
       "      <td>0.287031</td>\n",
       "      <td>0.000758</td>\n",
       "    </tr>\n",
       "    <tr>\n",
       "      <th>MONK-2</th>\n",
       "      <td>0.003756</td>\n",
       "      <td>0.002458</td>\n",
       "      <td>0.001056</td>\n",
       "      <td>0.015664</td>\n",
       "      <td>0.017277</td>\n",
       "      <td>0.006248</td>\n",
       "    </tr>\n",
       "    <tr>\n",
       "      <th>MONK-3</th>\n",
       "      <td>0.007121</td>\n",
       "      <td>0.293736</td>\n",
       "      <td>0.000831</td>\n",
       "      <td>0.002892</td>\n",
       "      <td>0.255912</td>\n",
       "      <td>0.007077</td>\n",
       "    </tr>\n",
       "  </tbody>\n",
       "</table>\n",
       "</div>"
      ],
      "text/plain": [
       "               0         1         2         3         4         5\n",
       "MONK-1  0.075273  0.005838  0.004708  0.026312  0.287031  0.000758\n",
       "MONK-2  0.003756  0.002458  0.001056  0.015664  0.017277  0.006248\n",
       "MONK-3  0.007121  0.293736  0.000831  0.002892  0.255912  0.007077"
      ]
     },
     "execution_count": 5,
     "metadata": {},
     "output_type": "execute_result"
    }
   ],
   "source": [
    "info_gain = {'MONK-1':[info_gain_MONK1_a1,info_gain_MONK1_a2,info_gain_MONK1_a3,info_gain_MONK1_a4,info_gain_MONK1_a5,info_gain_MONK1_a6],\n",
    "'MONK-2':[info_gain_MONK2_a1,info_gain_MONK2_a2,info_gain_MONK2_a3,info_gain_MONK2_a4,info_gain_MONK2_a5,info_gain_MONK2_a6],\n",
    "'MONK-3':[info_gain_MONK3_a1,info_gain_MONK3_a2,info_gain_MONK3_a3,info_gain_MONK3_a4,info_gain_MONK3_a5,info_gain_MONK3_a6]}\n",
    "\n",
    "df = pd.DataFrame(data=info_gain)\n",
    "df.transpose()"
   ]
  },
  {
   "cell_type": "code",
   "execution_count": 2,
   "metadata": {},
   "outputs": [],
   "source": [
    "#For MONK1 and MONK2 the highest information gain isfor the attribute 5 so we shuld split this attribute at the root node\n",
    "#For MONK3 the highest information gain is for the attribute 6 so it should be the attribute used for the root splitting"
   ]
  },
  {
   "cell_type": "code",
   "execution_count": 10,
   "metadata": {},
   "outputs": [],
   "source": [
    "#task 4 \n",
    "\n",
    "#If info_gain is maximised this implies that weighted sum of subsets entropy is minimised. Hence, by splitting root node with attribute that\n",
    "# maximise the entropy gain, minimise entropy of subsequent subsets and then enhanced predictability of those   "
   ]
  },
  {
   "cell_type": "code",
   "execution_count": 6,
   "metadata": {},
   "outputs": [
    {
     "name": "stdout",
     "output_type": "stream",
     "text": [
      "[0.0, 0.0, 0.0, 0.0, 0.0]\n",
      "[0.040216841609413634, 0.015063475072186083, 0.03727262736015946, 0.04889220262952931, 0.025807284723902146]\n",
      "[0.03305510013455182, 0.002197183539100922, 0.017982293842278896, 0.01912275517747053, 0.04510853782483648]\n",
      "[0.03305510013455182, 0.002197183539100922, 0.017982293842278896, 0.01912275517747053, 0.04510853782483648]\n"
     ]
    }
   ],
   "source": [
    "#split into subsets\n",
    "first_subset = dt.select(md.monk1,md.attributes[4],1)\n",
    "second_subset = dt.select(md.monk1,md.attributes[4],2)\n",
    "third_subset = dt.select(md.monk1,md.attributes[4],3)\n",
    "fourth_subset = dt.select(md.monk1,md.attributes[4],4)\n",
    "\n",
    "info_gain_first_subset = [0,0,0,0,0]\n",
    "info_gain_second_subset = [0,0,0,0,0]\n",
    "info_gain_third_subset = [0,0,0,0,0]\n",
    "info_gain_fourth_subset = [0,0,0,0,0]\n",
    "\n",
    "#calculate new info gain at next node\n",
    "#first subset\n",
    "info_gain_first_subset[0] = dt.averageGain(first_subset, md.attributes[0])\n",
    "info_gain_first_subset[1] = dt.averageGain(first_subset, md.attributes[1])\n",
    "info_gain_first_subset[2] = dt.averageGain(first_subset, md.attributes[2])\n",
    "info_gain_first_subset[3] = dt.averageGain(first_subset, md.attributes[3])\n",
    "info_gain_first_subset[4] = dt.averageGain(first_subset, md.attributes[5])\n",
    "\n",
    "print(info_gain_first_subset)\n",
    "\n",
    "#second subset \n",
    "info_gain_second_subset[0] = dt.averageGain(second_subset, md.attributes[0])\n",
    "info_gain_second_subset[1] = dt.averageGain(second_subset, md.attributes[1])\n",
    "info_gain_second_subset[2] = dt.averageGain(second_subset, md.attributes[2])\n",
    "info_gain_second_subset[3] = dt.averageGain(second_subset, md.attributes[3])\n",
    "info_gain_second_subset[4] = dt.averageGain(second_subset, md.attributes[5])\n",
    "\n",
    "print(info_gain_second_subset)\n",
    "#print(f\"MONK1 \\n a1_MONK1= {info_gain_MONK1_2_2_a1} \\n a2_MONK1= {info_gain_MONK1_2_2_a2} \\n a3_MONK1= {info_gain_MONK1_2_2_a3} \\n a4_MONK1= {info_gain_MONK1_2_2_a4} \\n a6_MONK1= {info_gain_MONK1_2_2_a6} \")\n",
    "\n",
    "\n",
    "#third subset \n",
    "info_gain_third_subset[0] = dt.averageGain(third_subset, md.attributes[0])\n",
    "info_gain_third_subset[1] = dt.averageGain(third_subset, md.attributes[1])\n",
    "info_gain_third_subset[2] = dt.averageGain(third_subset, md.attributes[2])\n",
    "info_gain_third_subset[3] = dt.averageGain(third_subset, md.attributes[3])\n",
    "info_gain_third_subset[4] = dt.averageGain(third_subset, md.attributes[5])\n",
    " \n",
    "print(info_gain_third_subset)\n",
    "#print(f\"MONK1 \\n a1_MONK1= {info_gain_MONK1_2_3_a1} \\n a2_MONK1= {info_gain_MONK1_2_3_a2} \\n a3_MONK1= {info_gain_MONK1_2_3_a3} \\n a4_MONK1= {info_gain_MONK1_2_3_a4} \\n a6_MONK1= {info_gain_MONK1_2_3_a6} \")\n",
    "\n",
    "\n",
    "#fourth subset \n",
    "info_gain_fourth_subset[0] = dt.averageGain(third_subset, md.attributes[0])\n",
    "info_gain_fourth_subset[1] = dt.averageGain(third_subset, md.attributes[1])\n",
    "info_gain_fourth_subset[2] = dt.averageGain(third_subset, md.attributes[2])\n",
    "info_gain_fourth_subset[3] = dt.averageGain(third_subset, md.attributes[3])\n",
    "info_gain_fourth_subset[4] = dt.averageGain(third_subset, md.attributes[5])\n",
    "\n",
    "print(info_gain_fourth_subset)\n",
    "#print(f\"MONK1 \\n a1_MONK1= {info_gain_MONK1_2_4_a1} \\n a2_MONK1= {info_gain_MONK1_2_4_a2} \\n a3_MONK1= {info_gain_MONK1_2_4_a3} \\n a4_MONK1= {info_gain_MONK1_2_4_a4} \\n a6_MONK1= {info_gain_MONK1_2_4_a6} \")\n",
    "          \n",
    "optimization_attribute_1 = max(info_gain_first_subset)\n",
    "optimization_attribute_2 = max(info_gain_second_subset)\n",
    "optimization_attribute_3 = max(info_gain_third_subset)\n",
    "optimization_attribute_4 = max(info_gain_fourth_subset)"
   ]
  },
  {
   "cell_type": "code",
   "execution_count": null,
   "metadata": {},
   "outputs": [],
   "source": []
  },
  {
   "cell_type": "code",
   "execution_count": 7,
   "metadata": {},
   "outputs": [
    {
     "name": "stdout",
     "output_type": "stream",
     "text": [
      "A5(+A4(A1(A2(+--)A2(-++)A2(--+))A2(-+-)A3(A1(A2(+--)+A2(-++))A2(--A1(--+))))A6(A4(A3(A1(A2(+--)A2(-+-)-)-)A1(A2(+--)--)-)A3(A4(A1(+--)A1(-++)+)A1(-A2(-+-)A2(--+))))A1(A2(+--)A2(-+-)A2(+-+)))\n",
      "A5(A3(A6(-A1(-A2(--A4(--+))A2(-A4(-+-)-)))A4(A2(--A1(-+-))+A1(A2(-A6(-+)-)A2(A6(-+)++)+)))A3(A4(A2(-+-)A6(A1(--+)+)A1(A2(-++)++))A2(A4(++A1(+-A6(+-)))-A1(+A4(+--)-)))A3(A6(A1(-A4(-++)A4(--+))A2(+A1(+-A4(+--))A4(A1(-++)A1(+--)-)))A4(A2(A6(-+)A6(+-)A1(A6(-+)++))A1(A2(-+-)--)A1(A6(+-)--)))A2(A6(-A1(+-A4(++-)))A1(A4(-A3(-+)A3(A6(-+)A6(+-)))A3(+A6(+-))-)A3(A4(--+)-)))\n",
      "A2(A5(++A4(A1(--+)++)-)A5(+A1(+A4(+-+)+)A3(A4(+A1(--+)A1(+--))+)-)A4(A5(--+A1(--+))--))\n"
     ]
    },
    {
     "ename": "SystemExit",
     "evalue": "0",
     "output_type": "error",
     "traceback": [
      "An exception has occurred, use %tb to see the full traceback.\n",
      "\u001b[1;31mSystemExit\u001b[0m\u001b[1;31m:\u001b[0m 0\n"
     ]
    },
    {
     "name": "stderr",
     "output_type": "stream",
     "text": [
      "C:\\Users\\lucie\\AppData\\Local\\Packages\\PythonSoftwareFoundation.Python.3.8_qbz5n2kfra8p0\\LocalCache\\local-packages\\Python38\\site-packages\\IPython\\core\\interactiveshell.py:3259: UserWarning: To exit: use 'exit', 'quit', or Ctrl-D.\n",
      "  warn(\"To exit: use 'exit', 'quit', or Ctrl-D.\", stacklevel=1)\n"
     ]
    }
   ],
   "source": [
    "tree_monk1 = dt.buildTree(md.monk1, md.attributes)\n",
    "tree_monk2 = dt.buildTree(md.monk2, md.attributes)\n",
    "tree_monk3 = dt.buildTree(md.monk3, md.attributes)\n",
    "\n",
    "print(tree_monk1)\n",
    "print(tree_monk2)\n",
    "print(tree_monk3)\n",
    "\n",
    "dwt.drawTree(tree_monk1)\n",
    "\n"
   ]
  },
  {
   "cell_type": "code",
   "execution_count": 9,
   "metadata": {},
   "outputs": [
    {
     "ename": "SystemExit",
     "evalue": "0",
     "output_type": "error",
     "traceback": [
      "An exception has occurred, use %tb to see the full traceback.\n",
      "\u001b[1;31mSystemExit\u001b[0m\u001b[1;31m:\u001b[0m 0\n"
     ]
    },
    {
     "name": "stderr",
     "output_type": "stream",
     "text": [
      "C:\\Users\\lucie\\AppData\\Local\\Packages\\PythonSoftwareFoundation.Python.3.8_qbz5n2kfra8p0\\LocalCache\\local-packages\\Python38\\site-packages\\IPython\\core\\interactiveshell.py:3259: UserWarning: To exit: use 'exit', 'quit', or Ctrl-D.\n",
      "  warn(\"To exit: use 'exit', 'quit', or Ctrl-D.\", stacklevel=1)\n"
     ]
    }
   ],
   "source": [
    "dwt.drawTree(tree_monk2)"
   ]
  },
  {
   "cell_type": "code",
   "execution_count": 16,
   "metadata": {},
   "outputs": [
    {
     "ename": "SystemExit",
     "evalue": "0",
     "output_type": "error",
     "traceback": [
      "An exception has occurred, use %tb to see the full traceback.\n",
      "\u001b[1;31mSystemExit\u001b[0m\u001b[1;31m:\u001b[0m 0\n"
     ]
    },
    {
     "name": "stderr",
     "output_type": "stream",
     "text": [
      "C:\\Users\\lucie\\AppData\\Local\\Packages\\PythonSoftwareFoundation.Python.3.8_qbz5n2kfra8p0\\LocalCache\\local-packages\\Python38\\site-packages\\IPython\\core\\interactiveshell.py:3259: UserWarning: To exit: use 'exit', 'quit', or Ctrl-D.\n",
      "  warn(\"To exit: use 'exit', 'quit', or Ctrl-D.\", stacklevel=1)\n"
     ]
    }
   ],
   "source": [
    "dwt.drawTree(tree_monk3)"
   ]
  },
  {
   "cell_type": "code",
   "execution_count": 7,
   "metadata": {},
   "outputs": [
    {
     "name": "stdout",
     "output_type": "stream",
     "text": [
      "0.17129629629629628\n",
      "0.0\n",
      "0.30787037037037035\n",
      "0.0\n",
      "0.05555555555555558\n",
      "0.0\n"
     ]
    }
   ],
   "source": [
    "print(1-dt.check(tree_monk1, md.monk1test))\n",
    "print(1-dt.check(tree_monk1, md.monk1))\n",
    "\n",
    "print(1-dt.check(tree_monk2, md.monk2test))\n",
    "print(1-dt.check(tree_monk2, md.monk2))\n",
    "\n",
    "print(1-dt.check(tree_monk3, md.monk3test))\n",
    "print(1-dt.check(tree_monk3, md.monk3))"
   ]
  },
  {
   "cell_type": "code",
   "execution_count": null,
   "metadata": {},
   "outputs": [],
   "source": [
    "#task 6 \n"
   ]
  },
  {
   "cell_type": "code",
   "execution_count": 9,
   "metadata": {},
   "outputs": [
    {
     "ename": "SystemExit",
     "evalue": "0",
     "output_type": "error",
     "traceback": [
      "An exception has occurred, use %tb to see the full traceback.\n",
      "\u001b[1;31mSystemExit\u001b[0m\u001b[1;31m:\u001b[0m 0\n"
     ]
    }
   ],
   "source": [
    "import random\n",
    "\n",
    "def partition(data, fraction):\n",
    "    ldata = list(data)\n",
    "    random.shuffle(ldata)\n",
    "    breakPoint = int(len(ldata) * fraction)\n",
    "    return ldata[:breakPoint], ldata[breakPoint:]\n",
    "\n",
    "monk1train, monk1val = partition(md.monk1, 0.6)\n",
    "monk2train, monk2val = partition(md.monk2, 0.6)\n",
    "monk3train, monk3val = partition(md.monk3, 0.6)\n",
    "\n",
    "tree_m1 = dt.buildTree(monk1train, md.attributes)\n",
    "tree_m2 = dt.buildTree(monk2train, md.attributes)\n",
    "tree_m3 = dt.buildTree(monk3train, md.attributes)\n",
    "\n",
    "def find_best_tree(tree, dataset):\n",
    "    pruned_tree_list = dt.allPruned(tree)\n",
    "    best_tree = tree    \n",
    "    for i in range(len(pruned_tree_list)):\n",
    "        correct_pruned = dt.check(pruned_tree_list[i], dataset)\n",
    "        correct_original = dt.check(best_tree, dataset)\n",
    "        if correct_pruned>correct_original:\n",
    "            best_tree = pruned_tree_list[i]\n",
    "        else:\n",
    "            break\n",
    "    return best_tree\n",
    "\n",
    "\n",
    "#tree_test = find_best_tree(tree_m1, monk1val)\n",
    "#dwt.drawTree(tree_test)\n",
    "\n",
    "def main(tree, dataset):\n",
    "    original_tree = tree\n",
    "    original_correct = dt.check(original_tree, dataset)\n",
    "    \n",
    "    new_tree = find_best_tree(original_tree, dataset)\n",
    "    new_correct = dt.check(new_tree, dataset)\n",
    "\n",
    "    while new_correct > original_correct:\n",
    "        original_tree = new_tree\n",
    "        test_tree = find_best_tree(new_tree, dataset)\n",
    "        original_correct = dt.check(original_tree, dataset)\n",
    "        new_correct = dt.check(test_tree, dataset)\n",
    "    return original_tree\n",
    "\n",
    "dwt.drawTree(main(tree_m1, monk1val))\n"
   ]
  },
  {
   "cell_type": "code",
   "execution_count": 7,
   "metadata": {},
   "outputs": [],
   "source": [
    "import math\n",
    "fraction_list = [0.3,0.4,0.5,0.6,0.7,0.8]\n",
    "check_0_0_m1 = []\n",
    "check_0_1_m1 = []\n",
    "check_0_2_m1 = []\n",
    "check_0_3_m1 = []\n",
    "check_0_4_m1 = []\n",
    "check_0_5_m1 = []\n",
    "\n",
    "check_0_0_m3 = []\n",
    "check_0_1_m3 = []\n",
    "check_0_2_m3 = []\n",
    "check_0_3_m3 = []\n",
    "check_0_4_m3 = []\n",
    "check_0_5_m3 = []\n",
    "\n",
    "\n",
    "for k in range(30):\n",
    "    intern_list_1 = []\n",
    "    intern_list_3 = []\n",
    "    for i in range(len(fraction_list)):\n",
    "        monk1train, monk1val = partition(md.monk1, fraction_list[i])\n",
    "        monk3train, monk3val = partition(md.monk3, fraction_list[i])\n",
    "        \n",
    "        tree_m1 = dt.buildTree(monk1train, md.attributes)\n",
    "        tree_m3 = dt.buildTree(monk3train, md.attributes)\n",
    "\n",
    "        check_test_m1 = 1-dt.check(main(tree_m1, monk1val), md.monk1test)\n",
    "        check_test_m3 = 1-dt.check(main(tree_m3, monk3val), md.monk3test)\n",
    "\n",
    "        intern_list_1.append(check_test_m1)\n",
    "        intern_list_3.append(check_test_m3)\n",
    "\n",
    "    check_0_0_m1.append(intern_list_1[0])\n",
    "    check_0_1_m1.append(intern_list_1[1])\n",
    "    check_0_2_m1.append(intern_list_1[2])\n",
    "    check_0_3_m1.append(intern_list_1[3])\n",
    "    check_0_4_m1.append(intern_list_1[4])\n",
    "    check_0_5_m1.append(intern_list_1[5])\n",
    "\n",
    "    check_0_0_m3.append(intern_list_3[0])\n",
    "    check_0_1_m3.append(intern_list_3[1])\n",
    "    check_0_2_m3.append(intern_list_3[2])\n",
    "    check_0_3_m3.append(intern_list_3[3])\n",
    "    check_0_4_m3.append(intern_list_3[4])\n",
    "    check_0_5_m3.append(intern_list_3[5])\n",
    "\n",
    "\n",
    "    #those lists contain the fraction of errors\n",
    "\n",
    "\n",
    "\n",
    "\n",
    "\n"
   ]
  },
  {
   "cell_type": "code",
   "execution_count": 8,
   "metadata": {},
   "outputs": [
    {
     "name": "stdout",
     "output_type": "stream",
     "text": [
      "\n",
      "  Mean minimal error for MONK1:\n",
      "[0.24733333333333332, 0.21793518518518518, 0.18463888888888888, 0.16509722222222223, 0.14424537037037038, 0.13969444444444445]\n",
      "\n",
      "  Standard deviation minimal error for MONK1:\n",
      "[0.04876455461314606, 0.05237449213660991, 0.052112952273149334, 0.05056737909637553, 0.04839178159705759, 0.04865068564733731]\n",
      "\n",
      "  Mean minimal error for MONK3:\n",
      "[0.11079166666666666, 0.09217129629629629, 0.08171296296296296, 0.07467592592592592, 0.07112962962962963, 0.06601851851851852]\n",
      "\n",
      "  Standard deviation minimal error for MONK3:\n",
      "[0.062482685714575374, 0.04755245358425438, 0.037696700681790984, 0.03257005684370711, 0.02915336690570374, 0.02169133636764499]\n"
     ]
    },
    {
     "data": {
      "image/png": "[encoded data removed]",
      "text/plain": [
       "<Figure size 432x288 with 1 Axes>"
      ]
     },
     "metadata": {
      "needs_background": "light"
     },
     "output_type": "display_data"
    },
    {
     "data": {
      "image/png": "[encoded data removed]",
      "text/plain": [
       "<Figure size 432x288 with 1 Axes>"
      ]
     },
     "metadata": {
      "needs_background": "light"
     },
     "output_type": "display_data"
    }
   ],
   "source": [
    "import random\n",
    "from statistics import *\n",
    "#from tkinter import N\n",
    "import dtree as dt\n",
    "import drawtree_qt5 as dwt\n",
    "import matplotlib.pyplot as plt\n",
    "\n",
    "def partition(data, fraction):\n",
    "    ldata = list(data)\n",
    "    random.shuffle(ldata)\n",
    "    breakPoint = int(len(ldata) * fraction)\n",
    "    return ldata[:breakPoint], ldata[breakPoint:]\n",
    "\n",
    "\n",
    "\n",
    "\n",
    "def main_2():\n",
    "    fraction = [0.3, 0.4, 0.5, 0.6, 0.7, 0.8]\n",
    "    precision = 500\n",
    "    mean_min_error_MONK1 = []\n",
    "    std_MONK1 = []\n",
    "    mean_min_error_MONK3 = []\n",
    "    std_MONK3 = []\n",
    "    for fraction_ in fraction:\n",
    "        min_error_MONK1 = []\n",
    "        min_error_MONK3 = []\n",
    "        for n in range(precision):\n",
    "            monk1train, monk1val = partition(md.monk1, fraction_)\n",
    "            monk3train, monk3val = partition(md.monk3, fraction_)\n",
    "            tree_m1 = dt.buildTree(monk1train, md.attributes)\n",
    "            tree_m3 = dt.buildTree(monk3train, md.attributes)\n",
    "            min_error_MONK1.append(1-dt.check(main(tree_m1, monk1val), md.monk1test))\n",
    "            min_error_MONK3.append(1-dt.check(main(tree_m3, monk3val), md.monk3test))\n",
    "        mean_min_error_MONK1.append(mean(min_error_MONK1))\n",
    "        mean_min_error_MONK3.append(mean(min_error_MONK3))\n",
    "        std_MONK1.append(stdev(min_error_MONK1))\n",
    "        std_MONK3.append(stdev(min_error_MONK3))\n",
    "    \n",
    "    print('\\n  Mean minimal error for MONK1:')\n",
    "    print(mean_min_error_MONK1)\n",
    "    print('\\n  Standard deviation minimal error for MONK1:')\n",
    "    print(std_MONK1)\n",
    "    print('\\n  Mean minimal error for MONK3:')\n",
    "    print(mean_min_error_MONK3)\n",
    "    print('\\n  Standard deviation minimal error for MONK3:')\n",
    "    print(std_MONK3)\n",
    "\n",
    "    plot1 = plt.figure(1)\n",
    "    plt.plot(fraction, mean_min_error_MONK1, marker='x')\n",
    "    plt.ylabel('min error')\n",
    "    plt.xlabel('fraction')\n",
    "    plt.title('MONK1')\n",
    "\n",
    "    plot2 = plt.figure(2)\n",
    "    plt.plot(fraction, mean_min_error_MONK3, marker='x')\n",
    "    plt.ylabel('min error')\n",
    "    plt.xlabel('fraction')\n",
    "    plt.title('MONK3')\n",
    "\n",
    "    plt.show()\n",
    "\n",
    "\n",
    "main_2()"
   ]
  }
 ],
 "metadata": {
  "interpreter": {
   "hash": "3cc20c3afff399d9d0893bd737df96966690332fb3c88da7798b52d1446fb6ec"
  },
  "kernelspec": {
   "display_name": "Python 3.8.2 32-bit",
   "language": "python",
   "name": "python3"
  },
  "language_info": {
   "codemirror_mode": {
    "name": "ipython",
    "version": 3
   },
   "file_extension": ".py",
   "mimetype": "text/x-python",
   "name": "python",
   "nbconvert_exporter": "python",
   "pygments_lexer": "ipython3",
   "version": "3.8.10"
  },
  "orig_nbformat": 4
 },
 "nbformat": 4,
 "nbformat_minor": 2
}
