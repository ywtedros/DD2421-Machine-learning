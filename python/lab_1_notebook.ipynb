{
 "cells": [
  {
   "cell_type": "code",
   "execution_count": 3,
   "metadata": {},
   "outputs": [],
   "source": [
    "import monkdata as md\n",
    "import dtree as dt\n",
    "import pandas as pd\n",
    "import numpy as np"
   ]
  },
  {
   "cell_type": "code",
   "execution_count": 7,
   "metadata": {},
   "outputs": [
    {
     "name": "stdout",
     "output_type": "stream",
     "text": [
      " Entropy 1 = 1.0 \n",
      " Entropy 2 = 0.957117428264771 \n",
      " Entropy 3 = 0.9998061328047111\n"
     ]
    }
   ],
   "source": [
    "#task 1\n",
    "MONK1_entropy = dt.entropy(md.monk1)\n",
    "MONK2_entropy = dt.entropy(md.monk2)\n",
    "MONK3_entropy = dt.entropy(md.monk3) \n",
    "\n",
    "print(f\" Entropy 1 = {MONK1_entropy} \\n Entropy 2 = {MONK2_entropy} \\n Entropy 3 = {MONK3_entropy}\")"
   ]
  },
  {
   "cell_type": "code",
   "execution_count": 1,
   "metadata": {},
   "outputs": [],
   "source": [
    "#task 2 \n",
    "#If uniform distribution then p_i the same for all i => p_i = 1/N\n",
    "#By definition entropy Ent = Sum_i -p_i log2(p_i)  \n",
    "# = -Sum_N 1/N log2(1/N) = -N * 1/N log2(1/N)\n",
    "#Ent = log2(N)\n",
    "#It gives the maximum value for the entropy since it's not predictable \n",
    "\n",
    "#In the case of a non-unifrom distribution, such as a normal distribution where the p_i are different, \n",
    "# and points closer to the mean of the set have a higher probability to occur than others, the entropy\n",
    "# becomes lower. Indeed the entropy is lowered as soon as the dataset becomes more predictable\n",
    "\n",
    "#For example, the normal distribution with a small sigma as a really low entropy (centered peak values) whereas \n",
    "#normal distribution but larger sigma will have an higher entropy"
   ]
  },
  {
   "cell_type": "code",
   "execution_count": 6,
   "metadata": {},
   "outputs": [
    {
     "name": "stdout",
     "output_type": "stream",
     "text": [
      "MONK1 \n",
      " a1_MONK1= 0.07527255560831925 \n",
      " a2_MONK1= 0.005838429962909286 \n",
      " a3_MONK1= 0.00470756661729721 \n",
      " a4_MONK1= 0.02631169650768228 \n",
      " a5_MONK1= 0.28703074971578435 \n",
      " a6_MONK1= 0.0007578557158638421 \n"
     ]
    }
   ],
   "source": [
    "#task 3\n",
    "\n",
    "#Expected gain per attributes MONK1\n",
    "info_gain_MONK1_a1 = dt.averageGain(md.monk1, md.attributes[0])\n",
    "info_gain_MONK1_a2 = dt.averageGain(md.monk1, md.attributes[1])\n",
    "info_gain_MONK1_a3 = dt.averageGain(md.monk1, md.attributes[2])\n",
    "info_gain_MONK1_a4 = dt.averageGain(md.monk1, md.attributes[3])\n",
    "info_gain_MONK1_a5 = dt.averageGain(md.monk1, md.attributes[4])\n",
    "info_gain_MONK1_a6 = dt.averageGain(md.monk1, md.attributes[5])\n",
    "\n",
    "#Expected gain per attributes MONK2\n",
    "info_gain_MONK2_a1 = dt.averageGain(md.monk2, md.attributes[0])\n",
    "info_gain_MONK2_a2 = dt.averageGain(md.monk2, md.attributes[1])\n",
    "info_gain_MONK2_a3 = dt.averageGain(md.monk2, md.attributes[2])\n",
    "info_gain_MONK2_a4 = dt.averageGain(md.monk2, md.attributes[3])\n",
    "info_gain_MONK2_a5 = dt.averageGain(md.monk2, md.attributes[4])\n",
    "info_gain_MONK2_a6 = dt.averageGain(md.monk2, md.attributes[5])\n",
    "\n",
    "##Expected gain per attributes MONK3\n",
    "info_gain_MONK3_a1 = dt.averageGain(md.monk3, md.attributes[0])\n",
    "info_gain_MONK3_a2 = dt.averageGain(md.monk3, md.attributes[1])\n",
    "info_gain_MONK3_a3 = dt.averageGain(md.monk3, md.attributes[2])\n",
    "info_gain_MONK3_a4 = dt.averageGain(md.monk3, md.attributes[3])\n",
    "info_gain_MONK3_a5 = dt.averageGain(md.monk3, md.attributes[4])\n",
    "info_gain_MONK3_a6 = dt.averageGain(md.monk3, md.attributes[5])\n",
    "\n",
    "print(f\"MONK1 \\n a1_MONK1= {info_gain_MONK1_a1} \\n a2_MONK1= {info_gain_MONK1_a2} \\n a3_MONK1= {info_gain_MONK1_a3} \\n a4_MONK1= {info_gain_MONK1_a4} \\n a5_MONK1= {info_gain_MONK1_a5} \\n a6_MONK1= {info_gain_MONK1_a6} \")\n",
    " "
   ]
  },
  {
   "cell_type": "code",
   "execution_count": 15,
   "metadata": {},
   "outputs": [
    {
     "data": {
      "text/html": [
       "<div>\n",
       "<style scoped>\n",
       "    .dataframe tbody tr th:only-of-type {\n",
       "        vertical-align: middle;\n",
       "    }\n",
       "\n",
       "    .dataframe tbody tr th {\n",
       "        vertical-align: top;\n",
       "    }\n",
       "\n",
       "    .dataframe thead th {\n",
       "        text-align: right;\n",
       "    }\n",
       "</style>\n",
       "<table border=\"1\" class=\"dataframe\">\n",
       "  <thead>\n",
       "    <tr style=\"text-align: right;\">\n",
       "      <th></th>\n",
       "      <th>0</th>\n",
       "      <th>1</th>\n",
       "      <th>2</th>\n",
       "      <th>3</th>\n",
       "      <th>4</th>\n",
       "      <th>5</th>\n",
       "    </tr>\n",
       "  </thead>\n",
       "  <tbody>\n",
       "    <tr>\n",
       "      <th>MONK-1</th>\n",
       "      <td>0.075273</td>\n",
       "      <td>0.005838</td>\n",
       "      <td>0.004708</td>\n",
       "      <td>0.026312</td>\n",
       "      <td>0.287031</td>\n",
       "      <td>0.000758</td>\n",
       "    </tr>\n",
       "    <tr>\n",
       "      <th>MONK-2</th>\n",
       "      <td>0.003756</td>\n",
       "      <td>0.002458</td>\n",
       "      <td>0.001056</td>\n",
       "      <td>0.015664</td>\n",
       "      <td>0.017277</td>\n",
       "      <td>0.006248</td>\n",
       "    </tr>\n",
       "    <tr>\n",
       "      <th>MONK-3</th>\n",
       "      <td>0.007121</td>\n",
       "      <td>0.293736</td>\n",
       "      <td>0.000831</td>\n",
       "      <td>0.002892</td>\n",
       "      <td>0.255912</td>\n",
       "      <td>0.007077</td>\n",
       "    </tr>\n",
       "  </tbody>\n",
       "</table>\n",
       "</div>"
      ],
      "text/plain": [
       "               0         1         2         3         4         5\n",
       "MONK-1  0.075273  0.005838  0.004708  0.026312  0.287031  0.000758\n",
       "MONK-2  0.003756  0.002458  0.001056  0.015664  0.017277  0.006248\n",
       "MONK-3  0.007121  0.293736  0.000831  0.002892  0.255912  0.007077"
      ]
     },
     "execution_count": 15,
     "metadata": {},
     "output_type": "execute_result"
    }
   ],
   "source": [
    "info_gain = {'MONK-1':[info_gain_MONK1_a1,info_gain_MONK1_a2,info_gain_MONK1_a3,info_gain_MONK1_a4,info_gain_MONK1_a5,info_gain_MONK1_a6],\n",
    "'MONK-2':[info_gain_MONK2_a1,info_gain_MONK2_a2,info_gain_MONK2_a3,info_gain_MONK2_a4,info_gain_MONK2_a5,info_gain_MONK2_a6],\n",
    "'MONK-3':[info_gain_MONK3_a1,info_gain_MONK3_a2,info_gain_MONK3_a3,info_gain_MONK3_a4,info_gain_MONK3_a5,info_gain_MONK3_a6]}\n",
    "\n",
    "df = pd.DataFrame(data=info_gain)\n",
    "df.transpose()"
   ]
  },
  {
   "cell_type": "code",
   "execution_count": 19,
   "metadata": {},
   "outputs": [
    {
     "ename": "NameError",
     "evalue": "name 'sort' is not defined",
     "output_type": "error",
     "traceback": [
      "\u001b[1;31m---------------------------------------------------------------------------\u001b[0m",
      "\u001b[1;31mNameError\u001b[0m                                 Traceback (most recent call last)",
      "Input \u001b[1;32mIn [19]\u001b[0m, in \u001b[0;36m<module>\u001b[1;34m\u001b[0m\n\u001b[1;32m----> 1\u001b[0m \u001b[43msort\u001b[49m(info_gain[\u001b[38;5;124m'\u001b[39m\u001b[38;5;124mMONK-1\u001b[39m\u001b[38;5;124m'\u001b[39m])\n",
      "\u001b[1;31mNameError\u001b[0m: name 'sort' is not defined"
     ]
    }
   ],
   "source": [
    "info_gain['MONK-1']\n"
   ]
  }
 ],
 "metadata": {
  "interpreter": {
   "hash": "3cc20c3afff399d9d0893bd737df96966690332fb3c88da7798b52d1446fb6ec"
  },
  "kernelspec": {
   "display_name": "Python 3.8.2 32-bit",
   "language": "python",
   "name": "python3"
  },
  "language_info": {
   "codemirror_mode": {
    "name": "ipython",
    "version": 3
   },
   "file_extension": ".py",
   "mimetype": "text/x-python",
   "name": "python",
   "nbconvert_exporter": "python",
   "pygments_lexer": "ipython3",
   "version": "3.8.10"
  },
  "orig_nbformat": 4
 },
 "nbformat": 4,
 "nbformat_minor": 2
}
